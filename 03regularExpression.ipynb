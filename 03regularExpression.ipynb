{
 "cells": [
  {
   "cell_type": "markdown",
   "metadata": {},
   "source": [
    "# 第3章: 正規表現\n",
    "Wikipediaの記事を以下のフォーマットで書き出したファイルjawiki-country.json.gzがある．\n",
    "\n",
    "- 1行に1記事の情報がJSON形式で格納される\n",
    "- 各行には記事名が\"title\"キーに，記事本文が\"text\"キーの辞書オブジェクトに格納され，そのオブジェクトがJSON形式で書き出される\n",
    "- ファイル全体はgzipで圧縮される  \n",
    "  \n",
    "以下の処理を行うプログラムを作成せよ．"
   ]
  },
  {
   "cell_type": "code",
   "execution_count": 2,
   "metadata": {},
   "outputs": [],
   "source": [
    "import re"
   ]
  },
  {
   "cell_type": "markdown",
   "metadata": {},
   "source": [
    "## 20. JSONデータの読み込み\n",
    "Wikipedia記事のJSONファイルを読み込み，「イギリス」に関する記事本文を表示せよ．問題21-29では，ここで抽出した記事本文に対して実行せよ．"
   ]
  },
  {
   "cell_type": "code",
   "execution_count": 3,
   "metadata": {},
   "outputs": [],
   "source": [
    "import gzip\n",
    "import json\n",
    "\n",
    "def load(filename, title):\n",
    "    with gzip.open(filename, \"rt\", \"utf_8\") as text:\n",
    "        lines = text.readline()\n",
    "        while lines:\n",
    "            elements = json.loads(lines)\n",
    "            if elements[\"title\"] == title:\n",
    "                return elements[\"text\"]\n",
    "            lines = text.readline()\n",
    "    return \"\""
   ]
  },
  {
   "cell_type": "code",
   "execution_count": null,
   "metadata": {},
   "outputs": [],
   "source": [
    "print(load(\"jawiki-country.json.gz\", 'イギリス'))"
   ]
  },
  {
   "cell_type": "markdown",
   "metadata": {},
   "source": [
    "---\n",
    "## 21. カテゴリ名を含む行を抽出\n",
    "記事中でカテゴリ名を宣言している行を抽出せよ．"
   ]
  },
  {
   "cell_type": "code",
   "execution_count": 7,
   "metadata": {},
   "outputs": [
    {
     "name": "stdout",
     "output_type": "stream",
     "text": [
      "[[Category:イギリス|*]]\n",
      "[[Category:英連邦王国|*]]\n",
      "[[Category:G8加盟国]]\n",
      "[[Category:欧州連合加盟国]]\n",
      "[[Category:海洋国家]]\n",
      "[[Category:君主国]]\n",
      "[[Category:島国|くれいとふりてん]]\n",
      "[[Category:1801年に設立された州・地域]]\n"
     ]
    }
   ],
   "source": [
    "text = load(\"jawiki-country.json.gz\", 'イギリス')\n",
    "pattern = re.compile(r'\\[\\[Category:.+\\]\\]')\n",
    "extraction = pattern.finditer( text)\n",
    "for line in extraction:\n",
    "    print(line.group())"
   ]
  },
  {
   "cell_type": "markdown",
   "metadata": {},
   "source": [
    "---\n",
    "## 22. カテゴリ名の抽出\n",
    "記事のカテゴリ名を（行単位ではなく名前で）抽出せよ．"
   ]
  },
  {
   "cell_type": "code",
   "execution_count": 9,
   "metadata": {},
   "outputs": [
    {
     "name": "stdout",
     "output_type": "stream",
     "text": [
      "イギリス|*\n",
      "英連邦王国|*\n",
      "G8加盟国\n",
      "欧州連合加盟国\n",
      "海洋国家\n",
      "君主国\n",
      "島国|くれいとふりてん\n",
      "1801年に設立された州・地域\n"
     ]
    }
   ],
   "source": [
    "text = load(\"jawiki-country.json.gz\", 'イギリス')\n",
    "pattern = re.compile(r'\\[\\[Category:(.+)\\]\\]')\n",
    "extraction = pattern.finditer( text)\n",
    "for line in extraction:\n",
    "    line = print(line.group(1))"
   ]
  },
  {
   "cell_type": "markdown",
   "metadata": {},
   "source": [
    "---\n",
    "## 23. セクション構造\n",
    "記事中に含まれるセクション名とそのレベル（例えば\"== セクション名 ==\"なら1）を表示せよ．"
   ]
  },
  {
   "cell_type": "code",
   "execution_count": 201,
   "metadata": {},
   "outputs": [
    {
     "name": "stdout",
     "output_type": "stream",
     "text": [
      "name:国名 \t level:1\n",
      "name:歴史 \t level:1\n",
      "name:地理 \t level:1\n",
      "name:気候 \t level:2\n",
      "name:政治 \t level:1\n",
      "name:外交と軍事 \t level:1\n",
      "name:地方行政区分 \t level:1\n",
      "name:主要都市 \t level:2\n",
      "name:科学技術 \t level:1\n",
      "name:経済 \t level:1\n",
      "name:鉱業 \t level:2\n",
      "name:農業 \t level:2\n",
      "name:貿易 \t level:2\n",
      "name:通貨 \t level:2\n",
      "name:企業 \t level:2\n",
      "name:交通 \t level:1\n",
      "name:道路 \t level:2\n",
      "name:鉄道 \t level:2\n",
      "name:海運 \t level:2\n",
      "name:航空 \t level:2\n",
      "name:通信 \t level:1\n",
      "name:国民 \t level:1\n",
      "name:言語 \t level:2\n",
      "name:宗教 \t level:2\n",
      "name: 婚姻  \t level:2\n",
      "name:教育 \t level:2\n",
      "name:文化 \t level:1\n",
      "name:食文化 \t level:2\n",
      "name:文学 \t level:2\n",
      "name: 哲学  \t level:2\n",
      "name:音楽 \t level:2\n",
      "name:イギリスのポピュラー音楽 \t level:3\n",
      "name:映画 \t level:2\n",
      "name:コメディ \t level:2\n",
      "name:国花 \t level:2\n",
      "name:世界遺産 \t level:2\n",
      "name:祝祭日 \t level:2\n",
      "name:スポーツ \t level:1\n",
      "name:サッカー \t level:2\n",
      "name:競馬 \t level:2\n",
      "name:モータースポーツ \t level:2\n",
      "name:脚注 \t level:1\n",
      "name:関連項目 \t level:1\n",
      "name:外部リンク \t level:1\n"
     ]
    }
   ],
   "source": [
    "text = load(\"jawiki-country.json.gz\", 'イギリス')\n",
    "pattern = re.compile(r'=+.+=')\n",
    "extraction = pattern.finditer(text)\n",
    "for l in extraction:\n",
    "    name = l.group().replace(\"=\", \"\")\n",
    "    level = int(l.group().count(\"=\")/2-1)\n",
    "    print(f\"name:{name} \\t level:{level}\")"
   ]
  },
  {
   "cell_type": "markdown",
   "metadata": {},
   "source": [
    "---\n",
    "## 24. ファイル参照の抽出\n",
    "記事から参照されているメディアファイルをすべて抜き出せ．"
   ]
  },
  {
   "cell_type": "code",
   "execution_count": 27,
   "metadata": {},
   "outputs": [
    {
     "name": "stdout",
     "output_type": "stream",
     "text": [
      "Royal Coat of Arms of the United Kingdom.svg\n",
      "Battle of Waterloo 1815.PNG\n",
      "The British Empire.png\n",
      "Uk topo en.jpg\n",
      "BenNevis2005.jpg\n",
      "Elizabeth II greets NASA GSFC employees, May 8, 2007 edit.jpg\n",
      "Palace of Westminster, London - Feb 2007.jpg\n",
      "David Cameron and Barack Obama at the G20 Summit in Toronto.jpg\n",
      "Soldiers Trooping the Colour, 16th June 2007.jpg\n",
      "Scotland Parliament Holyrood.jpg\n",
      "London.bankofengland.arp.jpg\n",
      "City of London skyline from London City Hall - Oct 2008.jpg\n",
      "Oil platform in the North SeaPros.jpg\n",
      "Eurostar at St Pancras Jan 2008.jpg\n",
      "Heathrow T5.jpg\n",
      "Anglospeak.svg\n",
      "CHANDOS3.jpg\n",
      "The Fabs.JPG\n",
      "PalaceOfWestminsterAtNight.jpg\n",
      "Westminster Abbey - West Door.jpg\n",
      "Edinburgh Cockburn St dsc06789.jpg\n",
      "Canterbury Cathedral - Portal Nave Cross-spire.jpeg\n",
      "Kew Gardens Palm House, London - July 2009.jpg\n",
      "2005-06-27 - United Kingdom - England - London - Greenwich.jpg\n",
      "Stonehenge2007 07 30.jpg\n",
      "Yard2.jpg\n",
      "Durham Kathedrale Nahaufnahme.jpg\n",
      "Roman Baths in Bath Spa, England - July 2006.jpg\n",
      "Fountains Abbey view02 2005-08-27.jpg\n",
      "Blenheim Palace IMG 3673.JPG\n",
      "Liverpool Pier Head by night.jpg\n",
      "Hadrian's Wall view near Greenhead.jpg\n",
      "London Tower (1).JPG\n",
      "Wembley Stadium, illuminated.jpg\n"
     ]
    }
   ],
   "source": [
    "text = load(\"jawiki-country.json.gz\", 'イギリス')\n",
    "pattern = re.compile(r'^.*ファイル:.+$|^.*File:.+$',  re.MULTILINE)\n",
    "extraction = pattern.finditer( text)\n",
    "for l in extraction:\n",
    "    print(re.sub(r'^.*ファイル:|^.*File:|\\|.*', \"\", l.group()))"
   ]
  },
  {
   "cell_type": "markdown",
   "metadata": {},
   "source": [
    "---\n",
    "## 25. テンプレートの抽出\n",
    "記事中に含まれる「基礎情報」テンプレートのフィールド名と値を抽出し，辞書オブジェクトとして格納せよ．"
   ]
  },
  {
   "cell_type": "code",
   "execution_count": 8,
   "metadata": {},
   "outputs": [
    {
     "name": "stdout",
     "output_type": "stream",
     "text": [
      "{'GDP/人': '36,727<ref name=\"imf-statistics-gdp\" />',\n",
      " 'GDP値': '2兆3162億<ref name=\"imf-statistics-gdp\" />',\n",
      " 'GDP値MER': '2兆4337億<ref name=\"imf-statistics-gdp\" />',\n",
      " 'GDP値元': '1兆5478億<ref '\n",
      "          'name=\"imf-statistics-gdp\">[http://www.imf.org/external/pubs/ft/weo/2012/02/weodata/weorept.aspx?pr.x=70&pr.y=13&sy=2010&ey=2012&scsm=1&ssd=1&sort=country&ds=.&br=1&c=112&s=NGDP%2CNGDPD%2CPPPGDP%2CPPPPC&grp=0&a= '\n",
      "          'IMF>Data and Statistics>World Economic Outlook Databases>By '\n",
      "          'Countrise>United Kingdom]</ref>',\n",
      " 'GDP統計年': '2012',\n",
      " 'GDP統計年MER': '2012',\n",
      " 'GDP統計年元': '2012',\n",
      " 'GDP順位': '6',\n",
      " 'GDP順位MER': '5',\n",
      " 'ISO 3166-1': 'GB / GBR',\n",
      " 'ccTLD': '[[.uk]] / [[.gb]]<ref>使用は.ukに比べ圧倒的少数。</ref>',\n",
      " '人口値': '63,181,775<ref>[http://esa.un.org/unpd/wpp/Excel-Data/population.htm '\n",
      "        'United Nations Department of Economic and Social Affairs>Population '\n",
      "        'Division>Data>Population>Total Population]</ref>',\n",
      " '人口大きさ': '1 E7',\n",
      " '人口密度値': '246',\n",
      " '人口統計年': '2011',\n",
      " '人口順位': '22',\n",
      " '位置画像': 'Location_UK_EU_Europe_001.svg',\n",
      " '元首等氏名': '[[エリザベス2世]]',\n",
      " '元首等肩書': '[[イギリスの君主|女王]]',\n",
      " '公式国名': '{{lang|en|United Kingdom of Great Britain and Northern '\n",
      "         'Ireland}}<ref>英語以外での正式国名:<br/>',\n",
      " '公用語': '[[英語]]（事実上）',\n",
      " '国旗画像': 'Flag of the United Kingdom.svg',\n",
      " '国歌': '[[女王陛下万歳|神よ女王陛下を守り給え]]',\n",
      " '国章リンク': '（[[イギリスの国章|国章]]）',\n",
      " '国章画像': '[[ファイル:Royal Coat of Arms of the United Kingdom.svg|85px|イギリスの国章]]',\n",
      " '国際電話番号': '44',\n",
      " '夏時間': '+1',\n",
      " '建国形態': '建国',\n",
      " '日本語国名': 'グレートブリテン及び北アイルランド連合王国',\n",
      " '時間帯': '±0',\n",
      " '最大都市': 'ロンドン',\n",
      " '標語': '{{lang|fr|Dieu et mon droit}}<br/>（[[フランス語]]:神と私の権利）',\n",
      " '水面積率': '1.3%',\n",
      " '注記': '<references />',\n",
      " '略名': 'イギリス',\n",
      " '確立年月日1': '[[927年]]／[[843年]]',\n",
      " '確立年月日2': '[[1707年]]',\n",
      " '確立年月日3': '[[1801年]]',\n",
      " '確立年月日4': '[[1927年]]',\n",
      " '確立形態1': '[[イングランド王国]]／[[スコットランド王国]]<br />（両国とも[[連合法 (1707年)|1707年連合法]]まで）',\n",
      " '確立形態2': '[[グレートブリテン王国]]建国<br />（[[連合法 (1707年)|1707年連合法]]）',\n",
      " '確立形態3': '[[グレートブリテン及びアイルランド連合王国]]建国<br />（[[連合法 (1800年)|1800年連合法]]）',\n",
      " '確立形態4': \"現在の国号「'''グレートブリテン及び北アイルランド連合王国'''」に変更\",\n",
      " '通貨': '[[スターリング・ポンド|UKポンド]] (&pound;)',\n",
      " '通貨コード': 'GBP',\n",
      " '面積値': '244,820',\n",
      " '面積大きさ': '1 E11',\n",
      " '面積順位': '76',\n",
      " '首相等氏名': '[[デーヴィッド・キャメロン]]',\n",
      " '首相等肩書': '[[イギリスの首相|首相]]',\n",
      " '首都': '[[ロンドン]]'}\n"
     ]
    }
   ],
   "source": [
    "import pprint\n",
    "text = load(\"jawiki-country.json.gz\", 'イギリス')\n",
    "pattern1 = re.compile(r'^\\{\\{基礎情報 国.*^\\}\\}$',  re.MULTILINE + re.DOTALL)\n",
    "extraction = pattern1.finditer(text)\n",
    "for temp in extraction:\n",
    "    temp = temp.group()\n",
    "    pattern2 = re.compile(r'^\\|.+=.+$', re.MULTILINE)\n",
    "    lines = pattern2.finditer(temp)\n",
    "    dic = {line.group()[1:].split(\" = \")[0]: line.group()[1:].split(\" = \")[1] for line in lines}\n",
    "pprint.pprint(dic)"
   ]
  },
  {
   "cell_type": "markdown",
   "metadata": {},
   "source": [
    "---\n",
    "## 26. 強調マークアップの除去\n",
    "25の処理時に，テンプレートの値からMediaWikiの強調マークアップ（弱い強調，強調，強い強調のすべて）を除去してテキストに変換せよ（参考: マークアップ早見表）．"
   ]
  },
  {
   "cell_type": "code",
   "execution_count": 136,
   "metadata": {},
   "outputs": [
    {
     "name": "stdout",
     "output_type": "stream",
     "text": [
      "name:略名 \t value:イギリス\n",
      "name:日本語国名 \t value:グレートブリテン及び北アイルランド連合王国\n",
      "name:公式国名 \t value:{{lang|en|United Kingdom of Great Britain and Northern Ireland}}<ref>英語以外での正式国名:<br/>\n",
      "name:国旗画像 \t value:Flag of the United Kingdom.svg\n",
      "name:国章画像 \t value:[[ファイル:Royal Coat of Arms of the United Kingdom.svg|85px|イギリスの国章]]\n",
      "name:国章リンク \t value:（[[イギリスの国章|国章]]）\n",
      "name:標語 \t value:{{lang|fr|Dieu et mon droit}}<br/>（[[フランス語]]:神と私の権利）\n",
      "name:国歌 \t value:[[女王陛下万歳|神よ女王陛下を守り給え]]\n",
      "name:位置画像 \t value:Location_UK_EU_Europe_001.svg\n",
      "name:公用語 \t value:[[英語]]（事実上）\n",
      "name:首都 \t value:[[ロンドン]]\n",
      "name:最大都市 \t value:ロンドン\n",
      "name:元首等肩書 \t value:[[イギリスの君主|女王]]\n",
      "name:元首等氏名 \t value:[[エリザベス2世]]\n",
      "name:首相等肩書 \t value:[[イギリスの首相|首相]]\n",
      "name:首相等氏名 \t value:[[デーヴィッド・キャメロン]]\n",
      "name:面積順位 \t value:76\n",
      "name:面積大きさ \t value:1 E11\n",
      "name:面積値 \t value:244,820\n",
      "name:水面積率 \t value:1.3%\n",
      "name:人口統計年 \t value:2011\n",
      "name:人口順位 \t value:22\n",
      "name:人口大きさ \t value:1 E7\n",
      "name:人口値 \t value:63,181,775<ref>[http://esa.un.org/unpd/wpp/Excel-Data/population.htm United Nations Department of Economic and Social Affairs>Population Division>Data>Population>Total Population]</ref>\n",
      "name:人口密度値 \t value:246\n",
      "name:GDP統計年元 \t value:2012\n",
      "name:GDP値元 \t value:1兆5478億<ref name=\"imf-statistics-gdp\">[http://www.imf.org/external/pubs/ft/weo/2012/02/weodata/weorept.aspx?pr.x=70&pr.y=13&sy=2010&ey=2012&scsm=1&ssd=1&sort=country&ds=.&br=1&c=112&s=NGDP%2CNGDPD%2CPPPGDP%2CPPPPC&grp=0&a= IMF>Data and Statistics>World Economic Outlook Databases>By Countrise>United Kingdom]</ref>\n",
      "name:GDP統計年MER \t value:2012\n",
      "name:GDP順位MER \t value:5\n",
      "name:GDP値MER \t value:2兆4337億<ref name=\"imf-statistics-gdp\" />\n",
      "name:GDP統計年 \t value:2012\n",
      "name:GDP順位 \t value:6\n",
      "name:GDP値 \t value:2兆3162億<ref name=\"imf-statistics-gdp\" />\n",
      "name:GDP/人 \t value:36,727<ref name=\"imf-statistics-gdp\" />\n",
      "name:建国形態 \t value:建国\n",
      "name:確立形態1 \t value:[[イングランド王国]]／[[スコットランド王国]]<br />（両国とも[[連合法 (1707年)|1707年連合法]]まで）\n",
      "name:確立年月日1 \t value:[[927年]]／[[843年]]\n",
      "name:確立形態2 \t value:[[グレートブリテン王国]]建国<br />（[[連合法 (1707年)|1707年連合法]]）\n",
      "name:確立年月日2 \t value:[[1707年]]\n",
      "name:確立形態3 \t value:[[グレートブリテン及びアイルランド連合王国]]建国<br />（[[連合法 (1800年)|1800年連合法]]）\n",
      "name:確立年月日3 \t value:[[1801年]]\n",
      "name:確立形態4 \t value:現在の国号「グレートブリテン及び北アイルランド連合王国」に変更\n",
      "name:確立年月日4 \t value:[[1927年]]\n",
      "name:通貨 \t value:[[スターリング・ポンド|UKポンド]] (&pound;)\n",
      "name:通貨コード \t value:GBP\n",
      "name:時間帯 \t value:±0\n",
      "name:夏時間 \t value:+1\n",
      "name:ISO 3166-1 \t value:GB / GBR\n",
      "name:ccTLD \t value:[[.uk]] / [[.gb]]<ref>使用は.ukに比べ圧倒的少数。</ref>\n",
      "name:国際電話番号 \t value:44\n",
      "name:注記 \t value:<references />\n"
     ]
    }
   ],
   "source": [
    "text = load(\"jawiki-country.json.gz\", 'イギリス')\n",
    "pattern1 = re.compile(r'^\\{\\{基礎情報 国.*^\\}\\}$',  re.MULTILINE + re.DOTALL)\n",
    "extraction = pattern1.finditer(text)\n",
    "for temp in extraction:\n",
    "    temp = temp.group()\n",
    "    pattern2 = re.compile(r'^\\|.+=.+$', re.MULTILINE)\n",
    "    lines = pattern2.finditer(temp)\n",
    "    dic = {}\n",
    "    for line in lines:\n",
    "        pattern3 = re.compile(r\"'{2,5}\")\n",
    "        line = pattern3.sub( \"\", line.group()[1:])\n",
    "        dic[line.split(\" = \")[0]] = line.split(\" = \")[1]\n",
    "        print(f'name:{line.split(\" = \")[0]} \\t value:{line.split(\" = \")[1]}')\n",
    "#print(dic)"
   ]
  },
  {
   "cell_type": "markdown",
   "metadata": {},
   "source": [
    "---\n",
    "## 27. 内部リンクの除去\n",
    "26の処理に加えて，テンプレートの値からMediaWikiの内部リンクマークアップを除去し，テキストに変換せよ（参考: マークアップ早見表）．"
   ]
  },
  {
   "cell_type": "code",
   "execution_count": 137,
   "metadata": {},
   "outputs": [
    {
     "name": "stdout",
     "output_type": "stream",
     "text": [
      "name:略名 \t value:イギリス\n",
      "name:日本語国名 \t value:グレートブリテン及び北アイルランド連合王国\n",
      "name:公式国名 \t value:{{lang|en|United Kingdom of Great Britain and Northern Ireland}}<ref>英語以外での正式国名:<br/>\n",
      "name:国旗画像 \t value:Flag of the United Kingdom.svg\n",
      "name:国章画像 \t value:イギリスの国章\n",
      "name:国章リンク \t value:（国章）\n",
      "name:標語 \t value:{{lang|fr|Dieu et mon droit}}<br/>（フランス語:神と私の権利）\n",
      "name:国歌 \t value:神よ女王陛下を守り給え\n",
      "name:位置画像 \t value:Location_UK_EU_Europe_001.svg\n",
      "name:公用語 \t value:英語（事実上）\n",
      "name:首都 \t value:ロンドン\n",
      "name:最大都市 \t value:ロンドン\n",
      "name:元首等肩書 \t value:女王\n",
      "name:元首等氏名 \t value:エリザベス2世\n",
      "name:首相等肩書 \t value:首相\n",
      "name:首相等氏名 \t value:デーヴィッド・キャメロン\n",
      "name:面積順位 \t value:76\n",
      "name:面積大きさ \t value:1 E11\n",
      "name:面積値 \t value:244,820\n",
      "name:水面積率 \t value:1.3%\n",
      "name:人口統計年 \t value:2011\n",
      "name:人口順位 \t value:22\n",
      "name:人口大きさ \t value:1 E7\n",
      "name:人口値 \t value:63,181,775<ref>[http://esa.un.org/unpd/wpp/Excel-Data/population.htm United Nations Department of Economic and Social Affairs>Population Division>Data>Population>Total Population]</ref>\n",
      "name:人口密度値 \t value:246\n",
      "name:GDP統計年元 \t value:2012\n",
      "name:GDP値元 \t value:1兆5478億<ref name=\"imf-statistics-gdp\">[http://www.imf.org/external/pubs/ft/weo/2012/02/weodata/weorept.aspx?pr.x=70&pr.y=13&sy=2010&ey=2012&scsm=1&ssd=1&sort=country&ds=.&br=1&c=112&s=NGDP%2CNGDPD%2CPPPGDP%2CPPPPC&grp=0&a= IMF>Data and Statistics>World Economic Outlook Databases>By Countrise>United Kingdom]</ref>\n",
      "name:GDP統計年MER \t value:2012\n",
      "name:GDP順位MER \t value:5\n",
      "name:GDP値MER \t value:2兆4337億<ref name=\"imf-statistics-gdp\" />\n",
      "name:GDP統計年 \t value:2012\n",
      "name:GDP順位 \t value:6\n",
      "name:GDP値 \t value:2兆3162億<ref name=\"imf-statistics-gdp\" />\n",
      "name:GDP/人 \t value:36,727<ref name=\"imf-statistics-gdp\" />\n",
      "name:建国形態 \t value:建国\n",
      "name:確立形態1 \t value:イングランド王国／スコットランド王国<br />（両国とも連合法 (1707年)|1707年連合法まで）\n",
      "name:確立年月日1 \t value:927年／843年\n",
      "name:確立形態2 \t value:グレートブリテン王国建国<br />（連合法 (1707年)|1707年連合法）\n",
      "name:確立年月日2 \t value:1707年\n",
      "name:確立形態3 \t value:グレートブリテン及びアイルランド連合王国建国<br />（連合法 (1800年)|1800年連合法）\n",
      "name:確立年月日3 \t value:1801年\n",
      "name:確立形態4 \t value:現在の国号「グレートブリテン及び北アイルランド連合王国」に変更\n",
      "name:確立年月日4 \t value:1927年\n",
      "name:通貨 \t value:UKポンド (&pound;)\n",
      "name:通貨コード \t value:GBP\n",
      "name:時間帯 \t value:±0\n",
      "name:夏時間 \t value:+1\n",
      "name:ISO 3166-1 \t value:GB / GBR\n",
      "name:ccTLD \t value:.uk / .gb<ref>使用は.ukに比べ圧倒的少数。</ref>\n",
      "name:国際電話番号 \t value:44\n",
      "name:注記 \t value:<references />\n"
     ]
    }
   ],
   "source": [
    "text = load(\"jawiki-country.json.gz\", 'イギリス')\n",
    "pattern1 = re.compile(r'^\\{\\{基礎情報 国.*^\\}\\}$',  re.MULTILINE + re.DOTALL)\n",
    "extraction = pattern1.finditer(text)\n",
    "for temp in extraction:\n",
    "    temp = temp.group()\n",
    "    pattern2 = re.compile(r'^\\|.+=.+$', re.MULTILINE)\n",
    "    lines = pattern2.finditer(temp)\n",
    "    dic = {}\n",
    "    for line in lines:\n",
    "        pattern3 = re.compile(r\"\\[\\[ファイル.+\\|.+\\||\\[\\[.{1,10}\\||\\[\\[|\\]\\]|'{2,5}\")\n",
    "        line = pattern3.sub( \"\", line.group()[1:])\n",
    "        dic[line.split(\" = \")[0]] = line.split(\" = \")[1]\n",
    "        print(f'name:{line.split(\" = \")[0]} \\t value:{line.split(\" = \")[1]}')\n",
    "#print(dic)"
   ]
  },
  {
   "cell_type": "markdown",
   "metadata": {},
   "source": [
    "---\n",
    "## 28. MediaWikiマークアップの除去\n",
    "27の処理に加えて，テンプレートの値からMediaWikiマークアップを可能な限り除去し，国の基本情報を整形せよ．"
   ]
  },
  {
   "cell_type": "code",
   "execution_count": 19,
   "metadata": {},
   "outputs": [
    {
     "name": "stdout",
     "output_type": "stream",
     "text": [
      "name:略名 \t value:イギリス\n",
      "name:日本語国名 \t value:グレートブリテン及び北アイルランド連合王国\n",
      "name:公式国名 \t value:United Kingdom of Great Britain and Northern Ireland\n",
      "name:国旗画像 \t value:Flag of the United Kingdom.svg\n",
      "name:国章画像 \t value:イギリスの国章\n",
      "name:国章リンク \t value:（国章）\n",
      "name:標語 \t value:Dieu et mon droit（フランス語:神と私の権利）\n",
      "name:国歌 \t value:神よ女王陛下を守り給え\n",
      "name:位置画像 \t value:Location_UK_EU_Europe_001.svg\n",
      "name:公用語 \t value:英語（事実上）\n",
      "name:首都 \t value:ロンドン\n",
      "name:最大都市 \t value:ロンドン\n",
      "name:元首等肩書 \t value:女王\n",
      "name:元首等氏名 \t value:エリザベス2世\n",
      "name:首相等肩書 \t value:首相\n",
      "name:首相等氏名 \t value:デーヴィッド・キャメロン\n",
      "name:面積順位 \t value:76\n",
      "name:面積大きさ \t value:1 E11\n",
      "name:面積値 \t value:244,820\n",
      "name:水面積率 \t value:1.3%\n",
      "name:人口統計年 \t value:2011\n",
      "name:人口順位 \t value:22\n",
      "name:人口大きさ \t value:1 E7\n",
      "name:人口値 \t value:63,181,775\n",
      "name:人口密度値 \t value:246\n",
      "name:GDP統計年元 \t value:2012\n",
      "name:GDP値元 \t value:1兆5478億\n",
      "name:GDP統計年MER \t value:2012\n",
      "name:GDP順位MER \t value:5\n",
      "name:GDP値MER \t value:2兆4337億\n",
      "name:GDP統計年 \t value:2012\n",
      "name:GDP順位 \t value:6\n",
      "name:GDP値 \t value:2兆3162億\n",
      "name:GDP/人 \t value:36,727\n",
      "name:建国形態 \t value:建国\n",
      "name:確立形態1 \t value:イングランド王国／スコットランド王国（両国とも連合法 (1707年)|1707年連合法まで）\n",
      "name:確立年月日1 \t value:927年／843年\n",
      "name:確立形態2 \t value:グレートブリテン王国建国（連合法 (1707年)|1707年連合法）\n",
      "name:確立年月日2 \t value:1707年\n",
      "name:確立形態3 \t value:グレートブリテン及びアイルランド連合王国建国（連合法 (1800年)|1800年連合法）\n",
      "name:確立年月日3 \t value:1801年\n",
      "name:確立形態4 \t value:現在の国号「グレートブリテン及び北アイルランド連合王国」に変更\n",
      "name:確立年月日4 \t value:1927年\n",
      "name:通貨 \t value:UKポンド (&pound;)\n",
      "name:通貨コード \t value:GBP\n",
      "name:時間帯 \t value:±0\n",
      "name:夏時間 \t value:+1\n",
      "name:ISO 3166-1 \t value:GB / GBR\n",
      "name:ccTLD \t value:.uk / .gb\n",
      "name:国際電話番号 \t value:44\n",
      "name:注記 \t value:\n"
     ]
    }
   ],
   "source": [
    "text = load(\"jawiki-country.json.gz\", 'イギリス')\n",
    "pattern1 = re.compile(r'^\\{\\{基礎情報 国.*^\\}\\}$',  re.MULTILINE + re.DOTALL)\n",
    "extraction = pattern1.finditer(text)\n",
    "for temp in extraction:\n",
    "    temp = temp.group()\n",
    "    pattern2 = re.compile(r'^\\|.+=.+$', re.MULTILINE)\n",
    "    lines = pattern2.finditer(temp)\n",
    "    dic = {}\n",
    "    for line in lines:\n",
    "        pattern3 = re.compile(r\"\\[\\[ファイル.+\\|.+\\||\\[\\[.{1,10}\\||\\[\\[|\\]\\]|'{2,5}|<.+>|\\{\\{.+\\||\\}\\}\", re.MULTILINE)\n",
    "        line = pattern3.sub(\"\", line.group()[1:])\n",
    "        dic[line.split(\" = \")[0]] = line.split(\" = \")[1]\n",
    "        print(f'name:{line.split(\" = \")[0]} \\t value:{line.split(\" = \")[1]}')\n",
    "#print(dic)"
   ]
  },
  {
   "cell_type": "markdown",
   "metadata": {},
   "source": [
    "---\n",
    "## 29. 国旗画像のURLを取得する\n",
    "テンプレートの内容を利用し，国旗画像のURLを取得せよ．（ヒント: MediaWiki APIのimageinfoを呼び出して，ファイル参照をURLに変換すればよい）"
   ]
  },
  {
   "cell_type": "code",
   "execution_count": 25,
   "metadata": {
    "scrolled": true
   },
   "outputs": [
    {
     "name": "stdout",
     "output_type": "stream",
     "text": [
      "https://upload.wikimedia.org/wikipedia/commons/a/ae/Flag_of_the_United_Kingdom.svg\n"
     ]
    }
   ],
   "source": [
    "#28を実行して辞書dicを作成しておく\n",
    "\n",
    "import sys\n",
    "import requests\n",
    "\n",
    "S = requests.Session()\n",
    "\n",
    "URL = \"https://www.mediawiki.org/w/api.php\"\n",
    "\n",
    "PARAMS = {\n",
    "    \"action\":\"query\",\n",
    "    \"format\":\"json\",\n",
    "    \"prop\": \"imageinfo\",\n",
    "    \"titles\": \"File:{}\".format(dic[u'国旗画像']),\n",
    "    \"iiprop\" : \"url\"\n",
    "}\n",
    "\n",
    "R = S.get(url=URL, params=PARAMS)\n",
    "DATA = R.json()\n",
    "\n",
    "image = DATA[\"query\"][\"pages\"][\"-1\"][\"imageinfo\"][0][\"url\"]\n",
    "print(image)\n",
    "\n",
    "#print(json.dumps(DATA, indent=4))"
   ]
  },
  {
   "cell_type": "code",
   "execution_count": null,
   "metadata": {},
   "outputs": [],
   "source": []
  }
 ],
 "metadata": {
  "kernelspec": {
   "display_name": "Python 3",
   "language": "python",
   "name": "python3"
  },
  "language_info": {
   "codemirror_mode": {
    "name": "ipython",
    "version": 3
   },
   "file_extension": ".py",
   "mimetype": "text/x-python",
   "name": "python",
   "nbconvert_exporter": "python",
   "pygments_lexer": "ipython3",
   "version": "3.7.2"
  }
 },
 "nbformat": 4,
 "nbformat_minor": 2
}

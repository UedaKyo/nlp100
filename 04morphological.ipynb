{
 "cells": [
  {
   "cell_type": "markdown",
   "metadata": {},
   "source": [
    "# 第4章: 形態素解析\n",
    "夏目漱石の小説『吾輩は猫である』の文章（neko.txt）をMeCabを使って形態素解析し，その結果をneko.txt.mecabというファイルに保存せよ．このファイルを用いて，以下の問に対応するプログラムを実装せよ．\n",
    "\n",
    "なお，問題37, 38, 39はmatplotlibもしくはGnuplotを用いるとよい．"
   ]
  },
  {
   "cell_type": "code",
   "execution_count": 5,
   "metadata": {},
   "outputs": [],
   "source": [
    "import subprocess\n",
    "\n",
    "def system(command, **options):\n",
    "    proc = subprocess.Popen(command, shell=True,\n",
    "                            stdout=subprocess.PIPE,\n",
    "                            **options)\n",
    "    return proc.communicate()[0].decode('utf-8')\n",
    "\n",
    "def cat(filepath):\n",
    "    return system(f'cat {filepath}')"
   ]
  },
  {
   "cell_type": "code",
   "execution_count": 6,
   "metadata": {},
   "outputs": [
    {
     "data": {
      "text/plain": [
       "''"
      ]
     },
     "execution_count": 6,
     "metadata": {},
     "output_type": "execute_result"
    }
   ],
   "source": [
    "system('''\n",
    "mkdir -p data\n",
    "cd data\n",
    "if [ ! -f neko.txt ]\n",
    "then curl -o neko.txt http://www.cl.ecei.tohoku.ac.jp/nlp100/data/neko.txt\n",
    "fi\n",
    "\n",
    "if [ ! -x /usr/local/bin/mecab ]; then brew install mecab mecab-ipadic; fi\n",
    "\n",
    "if [ ! -f neko.txt.mecab ]; then mecab neko.txt > neko.txt.mecab; fi\n",
    "''')"
   ]
  },
  {
   "cell_type": "code",
   "execution_count": 79,
   "metadata": {},
   "outputs": [],
   "source": [
    "import matplotlib.pyplot as plt\n",
    "import numpy as np\n",
    "import matplotlib as mpl"
   ]
  },
  {
   "cell_type": "markdown",
   "metadata": {},
   "source": [
    "---\n",
    "## 30. 形態素解析結果の読み込み\n",
    "形態素解析結果（neko.txt.mecab）を読み込むプログラムを実装せよ．ただし，各形態素は表層形（surface），基本形（base），品詞（pos），品詞細分類1（pos1）をキーとするマッピング型に格納し，1文を形態素（マッピング型）のリストとして表現せよ．第4章の残りの問題では，ここで作ったプログラムを活用せよ．"
   ]
  },
  {
   "cell_type": "code",
   "execution_count": 36,
   "metadata": {},
   "outputs": [],
   "source": [
    "import re\n",
    "pattern = re.compile(r\"(?P<surface>.+?)\\t(?P<pos>[^,]+),(?P<pos1>[^,]+),([^,]*,){4}(?P<base>[^,]+).*\")\n",
    "def mcload(filename):\n",
    "    sentence = []\n",
    "    with open(filename, \"r\") as file:\n",
    "        for word in file:\n",
    "            words = pattern.match(word)\n",
    "            if words:\n",
    "                sentence.append({\"surface\":words.group(\"surface\"), \"base\":words.group(\"base\"), \"pos\":words.group(\"pos\"), \"pos1\":words.group(\"pos1\"), })\n",
    "                if words.group(\"surface\") == \"。\":\n",
    "                    yield sentence\n",
    "                    sentence = []"
   ]
  },
  {
   "cell_type": "code",
   "execution_count": null,
   "metadata": {},
   "outputs": [],
   "source": [
    "for line in mcload(\"neko.txt.mecab\"):\n",
    "    print(line)"
   ]
  },
  {
   "cell_type": "markdown",
   "metadata": {},
   "source": [
    "---\n",
    "## 31. 動詞\n",
    "動詞の表層形をすべて抽出せよ．"
   ]
  },
  {
   "cell_type": "code",
   "execution_count": null,
   "metadata": {},
   "outputs": [],
   "source": [
    "verb = []\n",
    "for sentence in mcload(\"neko.txt.mecab\"):\n",
    "    for word in sentence:\n",
    "        if word[\"pos\"] == \"動詞\":\n",
    "            verb.append(word[\"surface\"])\n",
    "print(set(verb))"
   ]
  },
  {
   "cell_type": "markdown",
   "metadata": {},
   "source": [
    "---\n",
    "## 32. 動詞の原形\n",
    "動詞の原形をすべて抽出せよ．"
   ]
  },
  {
   "cell_type": "code",
   "execution_count": null,
   "metadata": {},
   "outputs": [],
   "source": [
    "verb = []\n",
    "for sentence in mcload(\"neko.txt.mecab\"):\n",
    "    for word in sentence:\n",
    "        if word[\"pos\"] == \"動詞\":\n",
    "            verb.append(word[\"base\"])\n",
    "print(set(verb))"
   ]
  },
  {
   "cell_type": "markdown",
   "metadata": {},
   "source": [
    "---\n",
    "## 33. サ変名詞\n",
    "サ変接続の名詞をすべて抽出せよ．"
   ]
  },
  {
   "cell_type": "code",
   "execution_count": null,
   "metadata": {},
   "outputs": [],
   "source": [
    "norm = []\n",
    "for sentence in mcload(\"neko.txt.mecab\"):\n",
    "    for word in sentence:\n",
    "        if word[\"pos1\"] == \"サ変接続\":\n",
    "            norm.append(word[\"base\"])\n",
    "print(set(norm))"
   ]
  },
  {
   "cell_type": "markdown",
   "metadata": {},
   "source": [
    "---\n",
    "## 34. 「AのB」\n",
    "2つの名詞が「の」で連結されている名詞句を抽出せよ．"
   ]
  },
  {
   "cell_type": "code",
   "execution_count": null,
   "metadata": {},
   "outputs": [],
   "source": [
    "setnorm = []\n",
    "for sentence in mcload(\"neko.txt.mecab\"):\n",
    "    t1, t2, t3 = {}, {}, {}\n",
    "    for word in sentence:\n",
    "        if t1 == {}:\n",
    "            t1, t2, t3 = word, word, word\n",
    "        else:\n",
    "            t1, t2, t3 = t2, t3, word\n",
    "        if t2[\"surface\"] == \"の\" and t1[\"pos\"] == \"名詞\" and t3[\"pos\"] == \"名詞\":\n",
    "            #print(f\"{t1['surface']}の{t3['surface']}\")\n",
    "            setnorm.append(f\"{t1['surface']}の{t3['surface']}\")\n",
    "print(set(setnorm))"
   ]
  },
  {
   "cell_type": "markdown",
   "metadata": {},
   "source": [
    "---\n",
    "## 35. 名詞の連接\n",
    "名詞の連接（連続して出現する名詞）を最長一致で抽出せよ．"
   ]
  },
  {
   "cell_type": "code",
   "execution_count": null,
   "metadata": {},
   "outputs": [],
   "source": [
    "setnorm2 = []\n",
    "for sentence in mcload(\"neko.txt.mecab\"):\n",
    "    setnorm = []\n",
    "    for word in sentence:\n",
    "        if word[\"pos\"] == \"名詞\":\n",
    "            setnorm.append(word[\"surface\"])\n",
    "        else:\n",
    "            if len(setnorm) > 1:\n",
    "                setnorm2.append((\"\".join(setnorm)))\n",
    "            setnorm = []\n",
    "print(set(setnorm2))"
   ]
  },
  {
   "cell_type": "markdown",
   "metadata": {},
   "source": [
    "---\n",
    "## 36. 単語の出現頻度\n",
    "文章中に出現する単語とその出現頻度を求め，出現頻度の高い順に並べよ．"
   ]
  },
  {
   "cell_type": "code",
   "execution_count": null,
   "metadata": {},
   "outputs": [],
   "source": [
    "dic = {}\n",
    "for sentence in mcload(\"neko.txt.mecab\"):\n",
    "    for word in sentence:\n",
    "        if word[\"base\"] in dic:\n",
    "            dic[word[\"base\"]] += 1\n",
    "        else:\n",
    "            dic[word[\"base\"]] = 1\n",
    "dic = sorted(dic.items(), key = lambda x:x[1], reverse = True)\n",
    "print(dic)"
   ]
  },
  {
   "cell_type": "markdown",
   "metadata": {},
   "source": [
    "#### 以下dicを用いる"
   ]
  },
  {
   "cell_type": "markdown",
   "metadata": {},
   "source": [
    "---\n",
    "## 37. 頻度上位10語\n",
    "出現頻度が高い10語とその出現頻度をグラフ（例えば棒グラフなど）で表示せよ．"
   ]
  },
  {
   "cell_type": "code",
   "execution_count": 93,
   "metadata": {},
   "outputs": [
    {
     "data": {
      "text/plain": [
       "<BarContainer object of 10 artists>"
      ]
     },
     "execution_count": 93,
     "metadata": {},
     "output_type": "execute_result"
    },
    {
     "data": {
      "image/png": "[encoded data removed]",
      "text/plain": [
       "<Figure size 432x288 with 1 Axes>"
      ]
     },
     "metadata": {
      "needs_background": "light"
     },
     "output_type": "display_data"
    }
   ],
   "source": [
    "mpl.rcParams['font.family'] = 'AppleGothic'\n",
    "plt.bar([i[0] for i in dic[:10]], [i[1] for i in dic[:10]])"
   ]
  },
  {
   "cell_type": "markdown",
   "metadata": {},
   "source": [
    "---\n",
    "## 38. ヒストグラム\n",
    "単語の出現頻度のヒストグラム（横軸に出現頻度，縦軸に出現頻度をとる単語の種類数を棒グラフで表したもの）を描け．"
   ]
  },
  {
   "cell_type": "code",
   "execution_count": 96,
   "metadata": {},
   "outputs": [
    {
     "data": {
      "text/plain": [
       "(array([1.1218e+04, 1.3000e+01, 5.0000e+00, 4.0000e+00, 1.0000e+00,\n",
       "        2.0000e+00, 4.0000e+00, 2.0000e+00, 1.0000e+00, 1.0000e+00]),\n",
       " array([1.0000e+00, 9.2030e+02, 1.8396e+03, 2.7589e+03, 3.6782e+03,\n",
       "        4.5975e+03, 5.5168e+03, 6.4361e+03, 7.3554e+03, 8.2747e+03,\n",
       "        9.1940e+03]),\n",
       " <a list of 10 Patch objects>)"
      ]
     },
     "execution_count": 96,
     "metadata": {},
     "output_type": "execute_result"
    },
    {
     "data": {
      "image/png": "[encoded data removed]",
      "text/plain": [
       "<Figure size 432x288 with 1 Axes>"
      ]
     },
     "metadata": {
      "needs_background": "light"
     },
     "output_type": "display_data"
    }
   ],
   "source": [
    "plt.hist([i[1] for i in dic], log = True)"
   ]
  },
  {
   "cell_type": "markdown",
   "metadata": {},
   "source": [
    "---\n",
    "## 39. Zipfの法則\n",
    "単語の出現頻度順位を横軸，その出現頻度を縦軸として，両対数グラフをプロットせよ．"
   ]
  },
  {
   "cell_type": "code",
   "execution_count": 104,
   "metadata": {},
   "outputs": [
    {
     "data": {
      "image/png": "[encoded data removed]",
      "text/plain": [
       "<Figure size 432x288 with 1 Axes>"
      ]
     },
     "metadata": {
      "needs_background": "light"
     },
     "output_type": "display_data"
    }
   ],
   "source": [
    "plt.plot(np.arange(len(dic)), [i[1] for i in dic])\n",
    "ax = plt.gca()\n",
    "ax.set_xscale(\"log\")\n",
    "ax.set_yscale(\"log\")\n",
    "\n",
    "plt.show()"
   ]
  },
  {
   "cell_type": "code",
   "execution_count": null,
   "metadata": {},
   "outputs": [],
   "source": []
  }
 ],
 "metadata": {
  "kernelspec": {
   "display_name": "Python 3",
   "language": "python",
   "name": "python3"
  },
  "language_info": {
   "codemirror_mode": {
    "name": "ipython",
    "version": 3
   },
   "file_extension": ".py",
   "mimetype": "text/x-python",
   "name": "python",
   "nbconvert_exporter": "python",
   "pygments_lexer": "ipython3",
   "version": "3.7.2"
  }
 },
 "nbformat": 4,
 "nbformat_minor": 2
}

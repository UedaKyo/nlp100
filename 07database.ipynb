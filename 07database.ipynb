{
 "cells": [
  {
   "cell_type": "markdown",
   "metadata": {},
   "source": [
    "# 第7章: データベース\n",
    "artist.json.gzは，オープンな音楽データベースMusicBrainzの中で，アーティストに関するものをJSON形式に変換し，gzip形式で圧縮したファイルである．このファイルには，1アーティストに関する情報が1行にJSON形式で格納されている．JSON形式の概要は以下の通りである．  \n",
    "（略）  \n",
    "artist.json.gzのデータをKey-Value-Store (KVS) およびドキュメント志向型データベースに格納・検索することを考える．KVSとしては，LevelDB，Redis，KyotoCabinet等を用いよ．ドキュメント志向型データベースとして，MongoDBを採用したが，CouchDBやRethinkDB等を用いてもよい．"
   ]
  },
  {
   "cell_type": "markdown",
   "metadata": {},
   "source": [
    "---\n",
    "## 60. KVSの構築\n",
    "Key-Value-Store (KVS) を用い，アーティスト名（name）から活動場所（area）を検索するためのデータベースを構築せよ．"
   ]
  },
  {
   "cell_type": "code",
   "execution_count": 1,
   "metadata": {},
   "outputs": [],
   "source": [
    "import leveldb\n",
    "import gzip\n",
    "import json"
   ]
  },
  {
   "cell_type": "code",
   "execution_count": 47,
   "metadata": {},
   "outputs": [
    {
     "name": "stdout",
     "output_type": "stream",
     "text": [
      "登録数:921337\n"
     ]
    }
   ],
   "source": [
    "db = leveldb.LevelDB(\"07DB\")\n",
    "\n",
    "with gzip.open(\"artist.json.gz\", \"rt\", \"utf-8\") as data:\n",
    "    for line in data:\n",
    "        artist = json.loads(line)\n",
    "        name = artist[\"name\"] + \"\\t \" + str(artist[\"id\"])\n",
    "        area = artist.get(\"area\", \"不明\")\n",
    "        db.Put(name.encode(), area.encode())\n",
    "        \n",
    "print(f\"登録数:{len(list(db.RangeIter()))}\")"
   ]
  },
  {
   "cell_type": "markdown",
   "metadata": {},
   "source": [
    "---\n",
    "## 61. KVSの検索\n",
    "60で構築したデータベースを用い，特定の（指定された）アーティストの活動場所を取得せよ．"
   ]
  },
  {
   "cell_type": "code",
   "execution_count": 48,
   "metadata": {},
   "outputs": [
    {
     "name": "stdout",
     "output_type": "stream",
     "text": [
      "artist: Oasis\n",
      "United Kingdom\n",
      "United States\n",
      "United Kingdom\n"
     ]
    }
   ],
   "source": [
    "import re\n",
    "\n",
    "#db = leveldb.LevelDB(\"07DB\")\n",
    "artist = input(\"artist: \")    #探す人の名前\n",
    "hit = False\n",
    "pattern = re.compile(r\"(?P<name>[^\\t]+)\\t(?P<id>.*)\")\n",
    "\n",
    "for key, value in db.RangeIter():\n",
    "    match = pattern.match(key.decode())\n",
    "    if match.group(\"name\") == artist:\n",
    "        name, area, hit = match.group(\"name\"), value.decode(), True\n",
    "        print(area)\n",
    "        \n",
    "if hit == False:\n",
    "    print(\"この歌手は登録されていません\")"
   ]
  },
  {
   "cell_type": "markdown",
   "metadata": {},
   "source": [
    "---\n",
    "## 62. KVS内の反復処理\n",
    "60で構築したデータベースを用い，活動場所が「Japan」となっているアーティスト数を求めよ．"
   ]
  },
  {
   "cell_type": "code",
   "execution_count": 24,
   "metadata": {},
   "outputs": [
    {
     "name": "stdout",
     "output_type": "stream",
     "text": [
      "Japan:22821件\n"
     ]
    }
   ],
   "source": [
    "count, country = 0, \"Japan\"\n",
    "for key, value in db.RangeIter():\n",
    "    if value == country.encode():\n",
    "        count += 1\n",
    "print(f\"{country}:{count}件\")"
   ]
  },
  {
   "cell_type": "markdown",
   "metadata": {},
   "source": [
    "---\n",
    "## 63. オブジェクトを値に格納したKVS\n",
    "KVSを用い，アーティスト名（name）からタグと被タグ数（タグ付けされた回数）のリストを検索するためのデータベースを構築せよ．さらに，ここで構築したデータベースを用い，アーティスト名からタグと被タグ数を検索せよ．"
   ]
  },
  {
   "cell_type": "code",
   "execution_count": 27,
   "metadata": {},
   "outputs": [
    {
     "name": "stdout",
     "output_type": "stream",
     "text": [
      "登録数:921337\n"
     ]
    }
   ],
   "source": [
    "#db = leveldb.LevelDB(\"63DB\")\n",
    "\n",
    "with gzip.open(\"artist.json.gz\", \"rt\", \"utf-8\") as data:\n",
    "    for line in data:\n",
    "        artist = json.loads(line)\n",
    "        name = artist[\"name\"] + \"\\t \" + str(artist[\"id\"])\n",
    "        area = artist.get(\"tags\", \"不明\")\n",
    "        db.Put(name.encode(), json.dumps(area).encode())\n",
    "        \n",
    "print(f\"登録数:{len(list(db.RangeIter()))}\")"
   ]
  },
  {
   "cell_type": "code",
   "execution_count": 46,
   "metadata": {},
   "outputs": [
    {
     "name": "stdout",
     "output_type": "stream",
     "text": [
      "タグを調べる歌手:Oasis\n",
      "rock:1\n",
      "britpop:3\n",
      "british:4\n",
      "uk:1\n",
      "britannique:1\n",
      "rock and indie:1\n",
      "england:1\n",
      "manchester:1\n",
      "morning glory:1\n",
      "oasis:1\n"
     ]
    }
   ],
   "source": [
    "#db = leveldb.LevelDB(\"07DB\")\n",
    "artist = input(\"タグを調べる歌手:\")    #探す人の名前\n",
    "hit1, hit2 = False, False\n",
    "pattern = re.compile(r\"(?P<name>[^\\t]+)\\t(?P<id>.*)\")\n",
    "\n",
    "for key, value in db.RangeIter():\n",
    "    match = pattern.match(key.decode())\n",
    "    if match.group(\"name\") == artist :\n",
    "        name, tags, hit1 = match.group(\"name\"), json.loads(value.decode()), True\n",
    "        if type(tags) == list:\n",
    "            for tag in tags :\n",
    "                hit2 = True\n",
    "                tag_value, tag_count = tag[\"value\"], tag[\"count\"]\n",
    "                print(f\"{tag_value}:{tag_count}\")\n",
    "        \n",
    "if hit1 == False:\n",
    "    print(\"この歌手は登録されていません\")\n",
    "elif hit2 == False:\n",
    "    print(\"この歌手のタグはありません\")"
   ]
  },
  {
   "cell_type": "markdown",
   "metadata": {},
   "source": [
    "---\n",
    "## 64. MongoDBの構築\n",
    "アーティスト情報（artist.json.gz）をデータベースに登録せよ．さらに，次のフィールドでインデックスを作成せよ: name, aliases.name, tags.value, rating.value"
   ]
  },
  {
   "cell_type": "code",
   "execution_count": 16,
   "metadata": {},
   "outputs": [
    {
     "data": {
      "text/plain": [
       "'rating.value_1'"
      ]
     },
     "execution_count": 16,
     "metadata": {},
     "output_type": "execute_result"
    }
   ],
   "source": [
    "import gzip\n",
    "import json\n",
    "import pymongo\n",
    "from pymongo import  MongoClient\n",
    "\"\"\"\n",
    "client = MongoClient()\n",
    "db = client.test_db\n",
    "collection = db.artist\n",
    "\n",
    "with gzip.open(\"artist.json.gz\", \"rt\", \"utf-8\") as data:\n",
    "    documents = []\n",
    "    for (i, line) in enumerate(data):\n",
    "        documents.append(json.loads(line))\n",
    "        \n",
    "        if i%100000 == 0:\n",
    "            collection.insert_many(documents)\n",
    "            documents = []\n",
    "            print(f\"{i}件登録\")\n",
    "            \n",
    "    if documents != []:\n",
    "        collection.insert_many(documents)\n",
    "        print(f\"{i}件登録\")\n",
    "\"\"\"\n",
    "\n",
    "collection.create_index([('name', pymongo.ASCENDING)])  \n",
    "collection.create_index([('aliases.name', pymongo.ASCENDING)])  \n",
    "collection.create_index([('tags.value', pymongo.ASCENDING)])\n",
    "collection.create_index([('rating.value', pymongo.ASCENDING)])"
   ]
  },
  {
   "cell_type": "code",
   "execution_count": 15,
   "metadata": {},
   "outputs": [
    {
     "name": "stdout",
     "output_type": "stream",
     "text": [
      "SON([('v', 2), ('key', SON([('_id', 1)])), ('name', '_id_'), ('ns', 'test_db.artist')])\n",
      "SON([('v', 2), ('key', SON([('name', 1)])), ('name', 'name_1'), ('ns', 'test_db.artist')])\n",
      "SON([('v', 2), ('key', SON([('aliases.name', 1)])), ('name', 'aliases.name_1'), ('ns', 'test_db.artist')])\n",
      "SON([('v', 2), ('key', SON([('tags.value', 1)])), ('name', 'tags.value_1'), ('ns', 'test_db.artist')])\n",
      "SON([('v', 2), ('key', SON([('rating.value', 1)])), ('name', 'rating.value_1'), ('ns', 'test_db.artist')])\n"
     ]
    }
   ],
   "source": [
    "for index in db.artist.list_indexes():\n",
    "    print(index)"
   ]
  },
  {
   "cell_type": "markdown",
   "metadata": {},
   "source": [
    "---\n",
    "## 65. MongoDBの検索\n",
    "MongoDBのインタラクティブシェルを用いて，\"Queen\"というアーティストに関する情報を取得せよ．さらに，これと同様の処理を行うプログラムを実装せよ．"
   ]
  },
  {
   "cell_type": "markdown",
   "metadata": {},
   "source": [
    "**ターミナルにて**  \n",
    "\\> use test_db  \n",
    "switched to db test_db   \n",
    "\\> db.artist.find({\"name\":\"Queen\"});  \n",
    "を入力"
   ]
  },
  {
   "cell_type": "code",
   "execution_count": null,
   "metadata": {},
   "outputs": [],
   "source": [
    "client = MongoClient()\n",
    "db = client.test_db\n",
    "collection = db.artist\n",
    "\n",
    "artist = input(f\"検索したいアーティスト :\")\n",
    "results = collection.find({\"name\":artist})\n",
    "\n",
    "for result in results:\n",
    "    del result [\"_id\"]\n",
    "    print(json.dumps(result, indent='\\t', sort_keys=True,))\n",
    "    print(\"---------------------------------\")"
   ]
  },
  {
   "cell_type": "markdown",
   "metadata": {},
   "source": [
    "---\n",
    "## 66. 検索件数の取得\n",
    "MongoDBのインタラクティブシェルを用いて，活動場所が「Japan」となっているアーティスト数を求めよ"
   ]
  },
  {
   "cell_type": "markdown",
   "metadata": {},
   "source": [
    "**ターミナルにて**  \n",
    "\\> use test_db  \n",
    "switched to db test_db   \n",
    "\\> db.artist.find({\"area\":\"Japan\"}).count();  \n",
    "を入力"
   ]
  },
  {
   "cell_type": "markdown",
   "metadata": {},
   "source": [
    "---\n",
    "## 67. 複数のドキュメントの取得\n",
    "特定の（指定した）別名を持つアーティストを検索せよ．"
   ]
  },
  {
   "cell_type": "code",
   "execution_count": null,
   "metadata": {},
   "outputs": [],
   "source": [
    "client = MongoClient()\n",
    "db = client.test_db\n",
    "collection = db.artist\n",
    "\n",
    "artist = input(f\"検索したいアーティスト :\")\n",
    "results = collection.find({\"aliases.name\":artist})\n",
    "\n",
    "for result in results:\n",
    "    del result [\"_id\"]\n",
    "    print(json.dumps(result, indent='\\t', sort_keys=True,))\n",
    "    print(\"---------------------------------\")"
   ]
  },
  {
   "cell_type": "markdown",
   "metadata": {},
   "source": [
    "---\n",
    "## 68. ソート\n",
    "\"dance\"というタグを付与されたアーティストの中でレーティングの投票数が多いアーティスト・トップ10を求めよ．"
   ]
  },
  {
   "cell_type": "code",
   "execution_count": 51,
   "metadata": {},
   "outputs": [
    {
     "name": "stdout",
     "output_type": "stream",
     "text": [
      "\"Madonna\"\n",
      "\"Bj\\u00f6rk\"\n",
      "\"The Prodigy\"\n",
      "\"Rihanna\"\n",
      "\"Britney Spears\"\n",
      "\"Maroon 5\"\n",
      "\"Adam Lambert\"\n",
      "\"Fatboy Slim\"\n",
      "\"Basement Jaxx\"\n",
      "\"Cornershop\"\n"
     ]
    }
   ],
   "source": [
    "client = MongoClient()\n",
    "db = client.test_db\n",
    "collection = db.artist\n",
    "\n",
    "results = collection.find({\"tags.value\":\"dance\"}).sort(\"rating.count\", pymongo.DESCENDING)\n",
    "i = 0\n",
    "for result in results:\n",
    "    print(json.dumps(result[\"name\"]))\n",
    "    i += 1\n",
    "    if i == 10:\n",
    "        break"
   ]
  },
  {
   "cell_type": "code",
   "execution_count": null,
   "metadata": {},
   "outputs": [],
   "source": []
  }
 ],
 "metadata": {
  "kernelspec": {
   "display_name": "Python 3",
   "language": "python",
   "name": "python3"
  },
  "language_info": {
   "codemirror_mode": {
    "name": "ipython",
    "version": 3
   },
   "file_extension": ".py",
   "mimetype": "text/x-python",
   "name": "python",
   "nbconvert_exporter": "python",
   "pygments_lexer": "ipython3",
   "version": "3.7.2"
  }
 },
 "nbformat": 4,
 "nbformat_minor": 2
}

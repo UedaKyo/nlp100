{
 "cells": [
  {
   "cell_type": "markdown",
   "metadata": {},
   "source": [
    "## 50. 文区切り\n",
    "(. or ; or : or ? or !) → 空白文字 → 英大文字というパターンを文の区切りと見なし，入力された文書を1行1文の形式で出力せよ．"
   ]
  },
  {
   "cell_type": "code",
   "execution_count": 1,
   "metadata": {},
   "outputs": [],
   "source": [
    "import re\n",
    "\n",
    "with open(\"nlp.txt\", \"r\") as file , open(\"feedednlp.txt\", \"w\") as newfile:\n",
    "    for line in file:\n",
    "        newfile.write(re.sub(r\"(?<=[.;:?!])\\s(?=[A-Z])\",\"\\n\",line))"
   ]
  },
  {
   "cell_type": "markdown",
   "metadata": {},
   "source": [
    "---\n",
    "## 51. 単語の切り出し\n",
    "空白を単語の区切りとみなし，50の出力を入力として受け取り，1行1単語の形式で出力せよ．ただし，文の終端では空行を出力せよ．"
   ]
  },
  {
   "cell_type": "code",
   "execution_count": 2,
   "metadata": {},
   "outputs": [],
   "source": [
    "with open(\"feedednlp.txt\", \"r\") as file, open(\"words.txt\", \"w\") as wordsfile:\n",
    "    for line in file:\n",
    "        #line = re.sub(\"[,.;:?!]\", \"\", line)\n",
    "        wordsfile.write(re.sub(r\"\\s\", \"\\n\", line))\n",
    "        if line != \"\\n\":\n",
    "            wordsfile.write(\"\\n\")"
   ]
  },
  {
   "cell_type": "markdown",
   "metadata": {},
   "source": [
    "---\n",
    "## 52. ステミング\n",
    "51の出力を入力として受け取り，Porterのステミングアルゴリズムを適用し，単語と語幹をタブ区切り形式で出力せよ． Pythonでは，Porterのステミングアルゴリズムの実装としてstemmingモジュールを利用するとよい．"
   ]
  },
  {
   "cell_type": "code",
   "execution_count": 3,
   "metadata": {},
   "outputs": [],
   "source": [
    "from nltk.stem.porter import PorterStemmer as PS\n",
    "ps = PS()\n",
    "\n",
    "with open(\"words.txt\", \"r\") as file, open(\"steming.txt\", \"w\") as steming:\n",
    "    for word in file:\n",
    "        if word != \"\\n\":\n",
    "            steming.write(word.strip() + \"\\t\" + ps.stem(word.strip()) + \"\\n\")\n",
    "        else:\n",
    "            steming.write(\"\\n\")"
   ]
  },
  {
   "cell_type": "markdown",
   "metadata": {},
   "source": [
    "---\n",
    "## 53. Tokenization\n",
    "Stanford Core NLPを用い，入力テキストの解析結果をXML形式で得よ．また，このXMLファイルを読み込み，入力テキストを1行1単語の形式で出力せよ．"
   ]
  },
  {
   "cell_type": "markdown",
   "metadata": {},
   "source": [
    "- 以下をターミナルで入力  \n",
    "java -cp \"/usr/local/lib/stanford-corenlp-full-2013-06-20/*\" edu.stanford.nlp.pipeline.StanfordCoreNLP -file nlp.txt"
   ]
  },
  {
   "cell_type": "code",
   "execution_count": 5,
   "metadata": {},
   "outputs": [],
   "source": [
    "import xml.etree.ElementTree as ET\n",
    "\n",
    "with open(\"wordslist.txt\", \"w\") as words:\n",
    "    tree = ET.parse(\"nlp.txt.xml\")\n",
    "    root = tree.getroot()\n",
    "    for token in root.iter(\"token\"):\n",
    "        words.write(token[0].text + \"\\n\")"
   ]
  },
  {
   "cell_type": "markdown",
   "metadata": {},
   "source": [
    "---\n",
    "## 54. 品詞タグ付け\n",
    "Stanford Core NLPの解析結果XMLを読み込み，単語，レンマ，品詞をタブ区切り形式で出力せよ．"
   ]
  },
  {
   "cell_type": "code",
   "execution_count": 6,
   "metadata": {},
   "outputs": [],
   "source": [
    "with open(\"wordsdetlist.txt\", \"w\") as words:\n",
    "    tree = ET.parse(\"nlp.txt.xml\")\n",
    "    root = tree.getroot()\n",
    "    for token in root.iter(\"token\"):\n",
    "        words.write(token[0].text + \"\\t\" + token[1].text + \"\\t\" + token[4].text + \"\\n\")"
   ]
  },
  {
   "cell_type": "markdown",
   "metadata": {},
   "source": [
    "---\n",
    "## 55. 固有表現抽出\n",
    "入力文中の人名をすべて抜き出せ"
   ]
  },
  {
   "cell_type": "code",
   "execution_count": 7,
   "metadata": {},
   "outputs": [],
   "source": [
    "with open(\"personlist.txt\", \"w\") as words:\n",
    "    tree = ET.parse(\"nlp.txt.xml\")\n",
    "    root = tree.getroot()\n",
    "    for token in root.iter(\"token\"):\n",
    "        if token[5].text == \"PERSON\":\n",
    "            words.write(token[0].text + \"\\n\")"
   ]
  },
  {
   "cell_type": "markdown",
   "metadata": {},
   "source": [
    "---\n",
    "## 56. 共参照解析\n",
    "Stanford Core NLPの共参照解析の結果に基づき，文中の参照表現（mention）を代表参照表現（representative mention）に置換せよ．ただし，置換するときは，「代表参照表現（参照表現）」のように，元の参照表現が分かるように配慮せよ．"
   ]
  },
  {
   "cell_type": "code",
   "execution_count": null,
   "metadata": {},
   "outputs": [],
   "source": []
  }
 ],
 "metadata": {
  "kernelspec": {
   "display_name": "Python 3",
   "language": "python",
   "name": "python3"
  },
  "language_info": {
   "codemirror_mode": {
    "name": "ipython",
    "version": 3
   },
   "file_extension": ".py",
   "mimetype": "text/x-python",
   "name": "python",
   "nbconvert_exporter": "python",
   "pygments_lexer": "ipython3",
   "version": "3.7.2"
  }
 },
 "nbformat": 4,
 "nbformat_minor": 2
}
